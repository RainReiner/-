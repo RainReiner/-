{
  "nbformat": 4,
  "nbformat_minor": 0,
  "metadata": {
    "colab": {
      "provenance": []
    },
    "kernelspec": {
      "name": "python3",
      "display_name": "Python 3"
    },
    "language_info": {
      "name": "python"
    }
  },
  "cells": [
    {
      "cell_type": "code",
      "execution_count": 2,
      "metadata": {
        "colab": {
          "base_uri": "https://localhost:8080/"
        },
        "id": "VgsKd_FE95NK",
        "outputId": "2d5aeaaf-9d53-4544-9b42-c5f67ba00e79"
      },
      "outputs": [
        {
          "output_type": "stream",
          "name": "stdout",
          "text": [
            "蘇誠宇\n",
            "<class 'str'>\n",
            "B1205021\n",
            "<class 'str'>\n"
          ]
        }
      ],
      "source": [
        "a=\"蘇誠宇\"\n",
        "b=\"B1205021\"\n",
        "print(a)\n",
        "print(type(a))\n",
        "print(b)\n",
        "print(type(b))"
      ]
    },
    {
      "cell_type": "code",
      "source": [
        "id=[\"蘇誠宇\",\"B1205021\"]\n",
        "print(id[0])\n",
        "print(id)"
      ],
      "metadata": {
        "colab": {
          "base_uri": "https://localhost:8080/"
        },
        "id": "vsxbn61s-1zD",
        "outputId": "ce8755f3-9b7c-40a6-a903-e3e5bffffa13"
      },
      "execution_count": 6,
      "outputs": [
        {
          "output_type": "stream",
          "name": "stdout",
          "text": [
            "蘇誠宇\n",
            "['蘇誠宇', 'B1205021']\n"
          ]
        }
      ]
    }
  ]
}